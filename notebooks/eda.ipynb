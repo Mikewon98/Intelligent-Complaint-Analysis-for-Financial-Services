{
 "cells": [
  {
   "cell_type": "code",
   "execution_count": null,
   "id": "40dd4c23",
   "metadata": {},
   "outputs": [],
   "source": [
    "import matplotlib.pyplot as plt\n",
    "import seaborn as sns\n",
    "import pandas as pd\n",
    "import numpy as np\n",
    "import os, sys\n",
    "import re\n",
    "\n",
    "sys.path.append('../scripts') \n",
    "import nltk\n",
    "\n",
    "from nltk.corpus import stopwords\n",
    "nltk.download('stopwords')\n",
    "stop_words = set(stopwords.words('english'))"
   ]
  },
  {
   "cell_type": "code",
   "execution_count": null,
   "id": "23693096",
   "metadata": {},
   "outputs": [],
   "source": [
    "def load_and_explore_data(file_path):\n",
    "    \"\"\"Load the dataset and perform initial exploration\"\"\"\n",
    "    print(\" LOADING AND EXPLORING DATA\")\n",
    "    print(\"=\" * 50)\n",
    "    \n",
    "    # Load the dataset\n",
    "    df = pd.read_csv(file_path)\n",
    "    \n",
    "    # Basic information\n",
    "    print(f\"Dataset Shape: {df.shape}\")\n",
    "    print(f\"Columns: {list(df.columns)}\")\n",
    "    print(\"\\nFirst 5 rows:\")\n",
    "    print(df.head())\n",
    "    \n",
    "    print(\"\\nDataset Info:\")\n",
    "    print(df.info())\n",
    "    \n",
    "    print(\"\\nMissing Values:\")\n",
    "    print(df.isnull().sum())\n",
    "    \n",
    "    print(\"\\nBasic Statistics:\")\n",
    "    print(df.describe(include='all'))\n",
    "    \n",
    "    return df\n",
    "\n",
    "df = load_and_explore_data('../data/complaints.csv')\n",
    "print(f\"Dataset Shape: {df.shape}\")"
   ]
  },
  {
   "cell_type": "code",
   "execution_count": null,
   "id": "e2d02381",
   "metadata": {},
   "outputs": [],
   "source": [
    "# Distribution of complaints by Product\n",
    "plt.figure(figsize=(12,6))\n",
    "product_counts = df['Product'].value_counts()\n",
    "sns.barplot(x=product_counts.index[:10], y=product_counts.values[:10])\n",
    "plt.xticks(rotation=45)\n",
    "plt.title(\"Top 10 Complaint Counts by Product\")\n",
    "plt.ylabel(\"Number of Complaints\")\n",
    "plt.show()\n"
   ]
  },
  {
   "cell_type": "code",
   "execution_count": null,
   "id": "a28f5ce9",
   "metadata": {},
   "outputs": [],
   "source": [
    "# Narrative length analysis\n",
    "df['narrative_length'] = df['Consumer complaint narrative'].dropna().apply(lambda x: len(str(x).split()))\n",
    "df['narrative_length'].hist(bins=50)\n",
    "plt.title(\"Distribution of Narrative Lengths\")\n",
    "plt.xlabel(\"Word Count\")\n",
    "plt.ylabel(\"Frequency\")\n",
    "plt.show()\n",
    "\n",
    "print(\"Shortest narrative length:\", df['narrative_length'].min())\n",
    "print(\"Longest narrative length:\", df['narrative_length'].max())\n"
   ]
  },
  {
   "cell_type": "code",
   "execution_count": null,
   "id": "9c80ec7d",
   "metadata": {},
   "outputs": [],
   "source": [
    "# Complaints with and without narratives\n",
    "with_narrative = df['Consumer complaint narrative'].notnull().sum()\n",
    "without_narrative = df['Consumer complaint narrative'].isnull().sum()\n",
    "\n",
    "print(f\"Complaints with narrative: {with_narrative}\")\n",
    "print(f\"Complaints without narrative: {without_narrative}\")\n"
   ]
  },
  {
   "cell_type": "code",
   "execution_count": null,
   "id": "0f59b12d",
   "metadata": {},
   "outputs": [],
   "source": [
    "# Filter by 5 target products & remove null narratives\n",
    "target_products = [\n",
    "    'Credit card',\n",
    "    'Personal loan',\n",
    "    'Buy Now, Pay Later (BNPL)',\n",
    "    'Savings account',\n",
    "    'Money transfer, virtual currency'\n",
    "]\n",
    "\n",
    "filtered_df = df[\n",
    "    df['Product'].isin(target_products) &\n",
    "    df['Consumer complaint narrative'].notnull()\n",
    "].copy()\n",
    "\n",
    "print(f\"Filtered dataset size: {filtered_df.shape}\")\n"
   ]
  },
  {
   "cell_type": "code",
   "execution_count": null,
   "id": "aed82d36",
   "metadata": {},
   "outputs": [],
   "source": [
    "# Clean text narratives\n",
    "def clean_text(text):\n",
    "    text = text.lower()\n",
    "    text = re.sub(r'\\n', ' ', text)\n",
    "    text = re.sub(r'[^a-z0-9\\s]', '', text)\n",
    "    text = re.sub(r'i am writing.*?complaint', '', text)  # remove boilerplate text if present\n",
    "    text = re.sub(r'\\s+', ' ', text).strip()\n",
    "    return text\n",
    "\n",
    "filtered_df['cleaned_narrative'] = filtered_df['Consumer complaint narrative'].apply(clean_text)\n"
   ]
  },
  {
   "cell_type": "code",
   "execution_count": null,
   "id": "735018ba",
   "metadata": {},
   "outputs": [],
   "source": [
    "# Save cleaned dataset back to Drive\n",
    "output_path = '../data/filtered_complaints.csv'\n",
    "filtered_df.to_csv(output_path, index=False)\n",
    "print(f\"Cleaned dataset saved to: {output_path}\")\n"
   ]
  }
 ],
 "metadata": {
  "kernelspec": {
   "display_name": ".venv",
   "language": "python",
   "name": "python3"
  },
  "language_info": {
   "name": "python",
   "version": "3.12.3"
  }
 },
 "nbformat": 4,
 "nbformat_minor": 5
}
